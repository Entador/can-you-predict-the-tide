{
 "cells": [
  {
   "cell_type": "code",
   "execution_count": 1,
   "metadata": {},
   "outputs": [
    {
     "name": "stderr",
     "output_type": "stream",
     "text": [
      "2023-02-04 16:38:23.631664: I tensorflow/core/platform/cpu_feature_guard.cc:193] This TensorFlow binary is optimized with oneAPI Deep Neural Network Library (oneDNN) to use the following CPU instructions in performance-critical operations:  AVX2 FMA\n",
      "To enable them in other operations, rebuild TensorFlow with the appropriate compiler flags.\n",
      "2023-02-04 16:38:24.095375: W tensorflow/compiler/xla/stream_executor/platform/default/dso_loader.cc:64] Could not load dynamic library 'libcudart.so.11.0'; dlerror: libcudart.so.11.0: cannot open shared object file: No such file or directory\n",
      "2023-02-04 16:38:24.095419: I tensorflow/compiler/xla/stream_executor/cuda/cudart_stub.cc:29] Ignore above cudart dlerror if you do not have a GPU set up on your machine.\n",
      "2023-02-04 16:38:25.730186: W tensorflow/compiler/xla/stream_executor/platform/default/dso_loader.cc:64] Could not load dynamic library 'libnvinfer.so.7'; dlerror: libnvinfer.so.7: cannot open shared object file: No such file or directory\n",
      "2023-02-04 16:38:25.730382: W tensorflow/compiler/xla/stream_executor/platform/default/dso_loader.cc:64] Could not load dynamic library 'libnvinfer_plugin.so.7'; dlerror: libnvinfer_plugin.so.7: cannot open shared object file: No such file or directory\n",
      "2023-02-04 16:38:25.730397: W tensorflow/compiler/tf2tensorrt/utils/py_utils.cc:38] TF-TRT Warning: Cannot dlopen some TensorRT libraries. If you would like to use Nvidia GPU with TensorRT, please make sure the missing libraries mentioned above are installed properly.\n"
     ]
    }
   ],
   "source": [
    "import os\n",
    "import numpy as np\n",
    "import pandas as pd\n",
    "import matplotlib.pyplot as plt\n",
    "import time\n",
    "import tensorflow as tf\n",
    "from sklearn.linear_model import LinearRegression"
   ]
  },
  {
   "cell_type": "code",
   "execution_count": null,
   "metadata": {},
   "outputs": [],
   "source": [
    "X_train = np.load(os.path.join('assets', 'X_train_surge_new.npz'))\n",
    "Y_train = pd.read_csv(os.path.join('assets', 'Y_train_surge.csv'))\n",
    "X_test = np.load(os.path.join('assets', 'X_test_surge_new.npz'))"
   ]
  },
  {
   "cell_type": "code",
   "execution_count": null,
   "metadata": {},
   "outputs": [],
   "source": [
    "x_surge1 = X_train['surge1_input']  # (5599, 10)\n",
    "x_surge2 = X_train['surge2_input']  # (5599, 10)\n",
    "xt_surge1 = X_train['t_surge1_input']  # (5599, 10)\n",
    "\n",
    "x_slp = X_train['slp']       # (5599, 40, 41, 41)\n",
    "x_slp = x_slp[:, ::4, :, :]  # (5599, 10, 41, 41)\n",
    "print(x_slp.shape)\n",
    "\n",
    "y_surge1 = np.array([Y_train[f'surge1_t{i}'] for i in range(10)]).T  # (5599, 10)\n",
    "y_surge2 = np.array([Y_train[f'surge2_t{i}'] for i in range(10)]).T  # (5599, 10)\n",
    "\n",
    "print(x_surge1.shape, y_surge1.shape)"
   ]
  },
  {
   "cell_type": "code",
   "execution_count": null,
   "metadata": {},
   "outputs": [],
   "source": [
    "images = x_slp\n",
    "print(len(images))\n",
    "data_im = np.array([ [[0.0]*2 for i in range(10) ] for j in range(5599)]) #change to 5599 \n",
    "\n",
    "for i in range(5599):  #change to 5599 for better computer\n",
    "    for j in range(10):\n",
    "\n",
    "        data_im[i][j][0] = np.mean(images[i,j,:,:])\n",
    "        data_im[i][j][1]= np.std(images[i,j,:,:])\n",
    "\n",
    "\n",
    "print(data_im[0][0])\n",
    "print(data_im.shape)"
   ]
  },
  {
   "cell_type": "code",
   "execution_count": null,
   "metadata": {},
   "outputs": [],
   "source": [
    "#créer un objet reg Lin\n",
    "modele=LinearRegression()\n",
    "\n",
    "#créer y et X\n",
    "y=x_surge1[:100].reshape(-1,)\n",
    "print(y.shape)\n",
    "X=data_im\n",
    "\n",
    "\n",
    "liste=np.empty([1000,2])\n",
    "\n",
    "print(liste.shape)\n",
    "for k in range(1000):\n",
    "    for i in range(10):\n",
    "        liste[k]=data_im[k][i]\n",
    "X=liste\n",
    "print(y.shape)\n",
    "print(X.shape)\n",
    "modele.fit(X,y)\n",
    "print(modele.score(X,y))\n",
    "predictions=modele.predict(X)\n",
    "\n",
    "for k in range(100):\n",
    "    print(X[k])\n",
    "\n",
    "\n",
    "\n",
    "#print(preditions)\n",
    "#print(y)\n",
    "\n",
    "plt.plot(X,y,'.',c='r')\n",
    "plt.show()\n",
    "plt.plot(X,predictions, '.', c='b')\n",
    "plt.show()\n",
    "plt.plot(X[1],y,'.',c='r')\n",
    "plt.show()\n",
    "plt.plot(X[1],predictions, '.', c='b')\n",
    "plt.show()"
   ]
  },
  {
   "cell_type": "code",
   "execution_count": null,
   "metadata": {},
   "outputs": [],
   "source": [
    "#créer un objet reg Lin\n",
    "modele=LinearRegression()\n",
    "\n",
    "#créer y et X\n",
    "list_var=X_train.files\n",
    "y=x_surge1[0]\n",
    "liste=np.zeros([10,41*41])\n",
    "\n",
    "print(liste.shape)\n",
    "for k in range(10):\n",
    "    liste[k]=x_slp[2][k].reshape(-1,)\n",
    "\n",
    "X=liste\n",
    "print(X.shape)\n",
    "print(y.shape)\n",
    "\n",
    "modele.fit(X,y)\n",
    "print(modele.score(X,y))\n",
    "predictions=modele.predict(X)\n",
    "\n",
    "#print(preditions)\n",
    "#print(y)\n",
    "\n",
    "plt.plot(X,y,'.',c='r')\n",
    "plt.show()\n",
    "plt.plot(X,predictions, '.', c='b')\n",
    "plt.show()"
   ]
  },
  {
   "cell_type": "code",
   "execution_count": null,
   "metadata": {},
   "outputs": [],
   "source": [
    "\n",
    "#créer un objet reg Lin\n",
    "modele=LinearRegression()\n",
    "nb_jour=300\n",
    "#créer y et X\n",
    "list_var=X_train.files\n",
    "\n",
    "y=x_surge1[:nb_jour].reshape(-1,1)\n",
    "\n",
    "liste=np.zeros([nb_jour*10,41*41])\n",
    "\n",
    "#print(liste.shape)\n",
    "m=100000.0\n",
    "for i in range(nb_jour*10): #Change\n",
    "    for k in range(10):\n",
    "        liste[i]=x_slp[i][k].reshape(-1,)\n",
    "print(liste.min())\n",
    "X=liste\n",
    "print(X.shape)\n",
    "print(y.shape)\n",
    "\n",
    "modele.fit(X,y)\n",
    "print(modele.score(X,y))\n",
    "predictions=modele.predict(X)\n",
    "\n",
    "print(predictions)\n",
    "print(y)\n",
    "print(X.min())\n",
    "plt.plot(X,y,'.',c='r')\n",
    "plt.show()\n",
    "\n",
    "plt.plot(X,predictions, '.',c='b')\n",
    "plt.show()\n",
    "\n"
   ]
  },
  {
   "cell_type": "code",
   "execution_count": null,
   "metadata": {},
   "outputs": [],
   "source": [
    "# create input data (each input is a tuple of (surge1, surge2, slp))\n",
    "x_slp_flat = x_slp.reshape(x_slp.shape[0], -1)\n",
    "print(x_surge1.shape, x_surge2.shape, x_slp_flat.shape)\n",
    "\n",
    "input_data = np.concatenate([x_surge1, x_surge2, x_slp_flat], axis=1)\n",
    "print(input_data.shape)\n",
    "\n",
    "output_data = np.concatenate([y_surge1, y_surge2], axis=1)\n",
    "\n",
    "# create time series data\n",
    "def create_time_series_data(data, time_steps=10):\n",
    "  X, Y = [], []\n",
    "  for i in range(len(data) - time_steps):\n",
    "    X.append(data[i: i + time_steps])\n",
    "    Y.append(data[i + time_steps])\n",
    "  return np.array(X), np.array(Y)\n",
    "\n",
    "# create time series data\n",
    "X, Y = create_time_series_data(input_data, time_steps=10)\n",
    "print(X.shape, Y.shape)\n",
    "\n",
    "# create train and test data\n",
    "X_train, X_test = X[:5000], X[5000:]\n",
    "Y_train, Y_test = Y[:5000], Y[5000:]\n",
    "\n",
    "del X, Y, input_data, output_data, x_surge1, x_surge2, x_slp_flat, x_slp, y_surge1, y_surge2\n"
   ]
  },
  {
   "cell_type": "code",
   "execution_count": null,
   "metadata": {},
   "outputs": [],
   "source": [
    "# create model\n",
    "model = tf.keras.Sequential([\n",
    "  tf.keras.layers.LSTM(128, input_shape=(10, 16830), return_sequences=True),\n",
    "  tf.keras.layers.LSTM(128, return_sequences=True),\n",
    "  tf.keras.layers.Dense(20)\n",
    "])\n",
    "\n",
    "model.compile(loss='mse', optimizer='adam', metrics=['mae'])\n",
    "model.summary()\n"
   ]
  },
  {
   "cell_type": "code",
   "execution_count": null,
   "metadata": {},
   "outputs": [],
   "source": [
    "# fit model\n",
    "hitsory = model.fit(X_train, Y_train, epochs=100, validation_data=(X_test, Y_test))\n",
    "\n",
    "# plot loss\n",
    "plt.plot(hitsory.history['loss'], label='train')\n",
    "plt.plot(hitsory.history['val_loss'], label='test')\n",
    "plt.legend()\n",
    "plt.show()\n"
   ]
  },
  {
   "cell_type": "code",
   "execution_count": null,
   "metadata": {},
   "outputs": [],
   "source": [
    "# make predictions\n",
    "Y_pred = model.predict(X_test)\n",
    "\n",
    "score = model.evaluate(X_test, Y_test, verbose=0)\n",
    "print('Test loss:', score)\n",
    " \n",
    "# plot predictions\n",
    "plt.plot(Y_test[:, 0], label='actual')\n",
    "plt.plot(Y_pred[:, 0], label='predicted')\n",
    "plt.legend()\n",
    "plt.show()"
   ]
  },
  {
   "cell_type": "code",
   "execution_count": null,
   "metadata": {},
   "outputs": [],
   "source": [
    "import surge_prediction_metric as surge\n",
    "\n",
    "# convert predictions to dataframe\n",
    "Y_pred_df = pd.DataFrame(Y_pred, columns=[f'surge1_t{i}' for i in range(10)] + [f'surge2_t{i}' for i in range(10)])\n",
    "Y_true_df = pd.DataFrame(Y_test, columns=[f'surge1_t{i}' for i in range(10)] + [f'surge2_t{i}' for i in range(10)])\n",
    "\n",
    "s1 = surge.surge_prediction_metric(Y_true_df[:10], Y_pred_df[:10])\n",
    "s2 = surge.surge_prediction_metric(Y_true_df[10:], Y_pred_df[10:])\n",
    "print(s1, s2)"
   ]
  }
 ],
 "metadata": {
  "kernelspec": {
   "display_name": "Python 3 (ipykernel)",
   "language": "python",
   "name": "python3"
  },
  "language_info": {
   "codemirror_mode": {
    "name": "ipython",
    "version": 3
   },
   "file_extension": ".py",
   "mimetype": "text/x-python",
   "name": "python",
   "nbconvert_exporter": "python",
   "pygments_lexer": "ipython3",
   "version": "3.10.6"
  },
  "orig_nbformat": 4,
  "vscode": {
   "interpreter": {
    "hash": "916dbcbb3f70747c44a77c7bcd40155683ae19c65e1c03b4aa3499c5328201f1"
   }
  }
 },
 "nbformat": 4,
 "nbformat_minor": 2
}
