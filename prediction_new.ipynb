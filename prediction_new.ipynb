{
 "cells": [
  {
   "cell_type": "code",
   "execution_count": null,
   "metadata": {},
   "outputs": [],
   "source": [
    "import os\n",
    "import numpy as np\n",
    "import pandas as pd\n",
    "import matplotlib.pyplot as plt\n",
    "\n",
    "import tensorflow as tf"
   ]
  },
  {
   "cell_type": "code",
   "execution_count": null,
   "metadata": {},
   "outputs": [],
   "source": [
    "X_train = np.load(os.path.join('assets', 'X_train_surge_new.npz'))\n",
    "Y_train = pd.read_csv(os.path.join('assets', 'Y_train_surge.csv'))\n",
    "X_test = np.load(os.path.join('assets', 'X_test_surge_new.npz'))"
   ]
  },
  {
   "cell_type": "code",
   "execution_count": null,
   "metadata": {},
   "outputs": [],
   "source": [
    "x_surge1 = X_train['surge1_input']  # (5599, 10)\n",
    "x_surge2 = X_train['surge2_input']  # (5599, 10)\n",
    "\n",
    "x_slp = X_train['slp']       # (5599, 40, 41, 41)\n",
    "x_slp = x_slp[:, ::4, :, :]  # (5599, 10, 41, 41)\n",
    "\n",
    "y_surge1 = np.array([Y_train[f'surge1_t{i}'] for i in range(10)]).T  # (5599, 10)\n",
    "y_surge2 = np.array([Y_train[f'surge2_t{i}'] for i in range(10)]).T  # (5599, 10)\n",
    "\n",
    "print(x_surge1.shape, y_surge1.shape)"
   ]
  },
  {
   "cell_type": "code",
   "execution_count": null,
   "metadata": {},
   "outputs": [],
   "source": [
    "# create input data (each input is a tuple of (surge1, surge2, slp))\n",
    "x_slp_flat = x_slp.reshape(x_slp.shape[0], -1)\n",
    "print(x_surge1.shape, x_surge2.shape, x_slp_flat.shape)\n",
    "\n",
    "input_data = np.concatenate([x_surge1, x_surge2, x_slp_flat], axis=1)\n",
    "print(input_data.shape)\n",
    "\n",
    "output_data = np.concatenate([y_surge1, y_surge2], axis=1)\n",
    "\n",
    "# create time series data\n",
    "def create_time_series_data(data, time_steps=10):\n",
    "  X, Y = [], []\n",
    "  for i in range(len(data) - time_steps):\n",
    "    X.append(data[i: i + time_steps])\n",
    "    Y.append(data[i + time_steps])\n",
    "  return np.array(X), np.array(Y)\n",
    "\n",
    "# create time series data\n",
    "X, Y = create_time_series_data(input_data, time_steps=10)\n",
    "print(X.shape, Y.shape)\n",
    "\n",
    "# create train and test data\n",
    "X_train, X_test = X[:5000], X[5000:]\n",
    "Y_train, Y_test = Y[:5000], Y[5000:]\n",
    "\n",
    "del X, Y, input_data, output_data, x_surge1, x_surge2, x_slp_flat, x_slp, y_surge1, y_surge2\n"
   ]
  },
  {
   "cell_type": "code",
   "execution_count": null,
   "metadata": {},
   "outputs": [],
   "source": [
    "# create model\n",
    "model = tf.keras.Sequential([\n",
    "  tf.keras.layers.LSTM(128, input_shape=(10, 16830), return_sequences=True),\n",
    "  tf.keras.layers.LSTM(128, return_sequences=True),\n",
    "  tf.keras.layers.Dense(20)\n",
    "])\n",
    "\n",
    "model.compile(loss='mse', optimizer='adam', metrics=['mae'])\n"
   ]
  },
  {
   "cell_type": "code",
   "execution_count": null,
   "metadata": {},
   "outputs": [],
   "source": [
    "# fit model\n",
    "hitsory = model.fit(X_train, Y_train, epochs=100, validation_data=(X_test, Y_test))\n",
    "\n",
    "# plot loss\n",
    "plt.plot(hitsory.history['loss'], label='train')\n",
    "plt.plot(hitsory.history['val_loss'], label='test')\n",
    "plt.legend()\n",
    "plt.show()\n"
   ]
  },
  {
   "cell_type": "code",
   "execution_count": null,
   "metadata": {},
   "outputs": [],
   "source": [
    "# make predictions\n",
    "Y_pred = model.predict(X_test)\n",
    "\n",
    "score = model.evaluate(X_test, Y_test, verbose=0)\n",
    "print('Test loss:', score)\n",
    " \n",
    "# plot predictions\n",
    "plt.plot(Y_test[:, 0], label='actual')\n",
    "plt.plot(Y_pred[:, 0], label='predicted')\n",
    "plt.legend()\n",
    "plt.show()"
   ]
  },
  {
   "cell_type": "code",
   "execution_count": null,
   "metadata": {},
   "outputs": [],
   "source": [
    "import surge_prediction_metric as surge\n",
    "\n",
    "# convert predictions to dataframe\n",
    "Y_pred_df = pd.DataFrame(Y_pred, columns=[f'surge1_t{i}' for i in range(10)] + [f'surge2_t{i}' for i in range(10)])\n",
    "Y_true_df = pd.DataFrame(Y_test, columns=[f'surge1_t{i}' for i in range(10)] + [f'surge2_t{i}' for i in range(10)])\n",
    "\n",
    "s1 = surge.surge_prediction_metric(Y_true_df[:10], Y_pred_df[:10])\n",
    "s2 = surge.surge_prediction_metric(Y_true_df[10:], Y_pred_df[10:])\n",
    "print(s1, s2)"
   ]
  }
 ],
 "metadata": {
  "kernelspec": {
   "display_name": "Python 3",
   "language": "python",
   "name": "python3"
  },
  "language_info": {
   "codemirror_mode": {
    "name": "ipython",
    "version": 3
   },
   "file_extension": ".py",
   "mimetype": "text/x-python",
   "name": "python",
   "nbconvert_exporter": "python",
   "pygments_lexer": "ipython3",
   "version": "3.10.9 (tags/v3.10.9:1dd9be6, Dec  6 2022, 20:01:21) [MSC v.1934 64 bit (AMD64)]"
  },
  "orig_nbformat": 4,
  "vscode": {
   "interpreter": {
    "hash": "26de051ba29f2982a8de78e945f0abaf191376122a1563185a90213a26c5da77"
   }
  }
 },
 "nbformat": 4,
 "nbformat_minor": 2
}
