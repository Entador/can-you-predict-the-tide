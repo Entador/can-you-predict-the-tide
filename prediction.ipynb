{
 "cells": [
  {
   "attachments": {},
   "cell_type": "markdown",
   "metadata": {},
   "source": [
    "# Can you predict the Tide?"
   ]
  },
  {
   "attachments": {},
   "cell_type": "markdown",
   "metadata": {},
   "source": [
    "## Goal\n",
    "\n",
    "Participants will have to forecast the sea surges in two western European coastal cities.\n",
    "\n",
    "We place ourselves in a forecast setup: knowing the surge values and the sea-level pressure field in the last 5 days, we want to predict the surge values in the next five days. It is hence a time series prediction problem. The signals we consider are:\n",
    "\n",
    "- the surge, which is a function of the time.\n",
    "- the sea-level pressure, which is a function of the time, the latitude and the longitude.\n",
    "\n",
    "The score $l(\\hat{y},y)$ we use to measure the quality of the prediction $\\hat{y}$​ compared to the true values $y$ is a weighted version of the mean square error (MSE). The weights depend linearly on the forecast time, with a bigger weight for the first forecast time and a lower weight for the last forecast time. The prediction for the two cities are computed independently, and the final loss is their sum:\n",
    "\n",
    "```python\n",
    "def surge_prediction_metric(y_true, y_pred):\n",
    "    w = np.linspace(1, 0.1, 10)[np.newaxis]\n",
    "    surge1_cols = [\n",
    "        'surge1_t0', 'surge1_t1', 'surge1_t2', 'surge1_t3', 'surge1_t4',\n",
    "        'surge1_t5', 'surge1_t6', 'surge1_t7', 'surge1_t8', 'surge1_t9' ]\n",
    "    surge2_cols = [\n",
    "        'surge2_t0', 'surge2_t1', 'surge2_t2', 'surge2_t3', 'surge2_t4',\n",
    "        'surge2_t5', 'surge2_t6', 'surge2_t7', 'surge2_t8', 'surge2_t9' ]\n",
    "    surge1_score = (w * (y_true[surge1_cols].values - y_pred[surge1_cols].values)**2).mean()\n",
    "    surge2_score = (w * (y_true[surge2_cols].values - y_pred[surge2_cols].values)**2).mean()\n",
    "\n",
    "    return surge1_score + surge2_score\n",
    "```\n"
   ]
  },
  {
   "attachments": {},
   "cell_type": "markdown",
   "metadata": {},
   "source": [
    "Since the surge values are normalized (zero mean and standard deviation 1), $1-l$ can be seen as a percentage of explained variance. With a trivial zero prediction of all values, the score is $l \\approx 1$ , meaning that we explain 0 % of the variance. A score bigger than one is hence worse that the zero prediction and can be considered as \"bad\"."
   ]
  },
  {
   "attachments": {},
   "cell_type": "markdown",
   "metadata": {},
   "source": [
    "## Data description\n",
    "\n",
    "The training set contains 5599 entries, and the test set contains 509 entries. Each entry represents approximately 5 days of measurements of the pressure and the tide, and the times at which they were done.\n",
    "\n",
    "**Times** are given in the GMT convention. In the GMT convention, the time is expressed as the number of seconds elapsed since January 1st, 1970; they can be converted to the usual Gregorian time with `time.gmtime()`. Note that in our dataset, some times are negative: indeed, the first measurements date back to the 1950s. For instance, the very first sea-level pressure field is given at $t=−631108800.0$ which corresponds to 1950, January 1st at approximately 21h.\n",
    "\n",
    "**Sea-Level** Pressure fields (SLP) are given every three hours, so there are 40 fields for every observation. They cover the Atlantic front of western Europe and Iceland, as shown on the following map:\n",
    "\n",
    "![SLP map](images/slp.png)\n",
    "\n",
    "Sea surges are measured for each high tide, i.e. every 12 hours approximately. We measure the sea surge at two different locations, which are two anonymous European costal cities. Consequently, each entry contains `2×102×10` values to predict. There are in total $20×509=10180$ values to predict for the test. Note that the surge values in cities 1 and 2 have been normalized, such that they have 0 mean and standard deviation 1. The true means and std of the surge are of the order of 10cm and 20cm respectively.\n",
    "\n",
    "The **.npz format**: practically, the input X is encoded in the numpy .npz format and consists of:\n",
    "\n",
    "- id_sequence: the ids of the sequence\n",
    "- t_slp: the 40 GMT times at which the sea-level pressure (SLP) fields are given.\n",
    "- slp: the 40 sea-level pressure (SLP) fields, encoded in images of size (41, 41).\n",
    "- t_surge1_input: the 10 GMT times at which the surge heights are given in city 1.\n",
    "- surge1_input: the given surge heights in city 1.\n",
    "- t_surge2_input: the 10 GMT times at which the surge heights are given in city 2.\n",
    "- surge2_input: the given surge heights in city 2.\n",
    "- t_surge1_output: the 10 GMT times at which we must predict surge heights in city 1.\n",
    "- t_surge2_output: the 10 GMT times at which we must predict surge heights in city 2.\n",
    "\n",
    "To access for example the training slp, one can use the following:\n",
    "\n",
    "```python\n",
    "X_train = np.load('X_train_surge.npz')\n",
    "slp = X_train['slp']\n",
    "```\n",
    "\n",
    "The output Y is encoded in a csv file with the columns:\n",
    "\n",
    "\n",
    "- id_sequence: the ids of the sequence\n",
    "- surge1_t{0...9}: the correct surge height in city 1 at time 0 to 9\n",
    "- surge2_t{0...9}: the correct surge height in city 2 at time 0 to 9\n",
    "\n",
    "**Submission format** We provided a random submission example. The submission index must be X_test['id_sequence'] and the columns must match those of Y_train_surge.csv: see the notebook in the supplementary files for another submission example. "
   ]
  },
  {
   "attachments": {},
   "cell_type": "markdown",
   "metadata": {},
   "source": [
    "## Benchmark description\n",
    "\n",
    "Analog methods in meteorology are the equivalent of nearest-neighbors predictions in machine learning. It consists in finding a day in the past when the weather scenario looked very similar to the actual weather scenario (an analog scenario). The forecaster would predict that the weather in this forecast will behave the same as it did in the past. Physicists appreciate these methods for their interpretability, as the prediction is explained by a real past situation that they can look at. They can also a posteriori analyze the prediction errors given the difference between the actual scenario and the analog found in the past.\n",
    "\n",
    "The benchmark we propose here is an analog method. We use the standard L2 metric and look for the closest k=40k=40 scenarios at time t and t - 24h using a K-nearest neighbor search. We then average over these scenarios to get the benchmark. It yields a score of 0.77 on the public test data, meaning that it explained around 23 % of the variance.\n",
    "\n",
    "We provide in the supplementary files a Jupyter Notebook that implements this benchmark."
   ]
  },
  {
   "attachments": {},
   "cell_type": "markdown",
   "metadata": {},
   "source": [
    "## Answer"
   ]
  },
  {
   "cell_type": "code",
   "execution_count": null,
   "metadata": {},
   "outputs": [],
   "source": [
    "import os\n",
    "import numpy as np\n",
    "import pandas as pd\n",
    "import matplotlib.pyplot as plt\n",
    "\n",
    "import tensorflow as tf"
   ]
  },
  {
   "cell_type": "code",
   "execution_count": null,
   "metadata": {},
   "outputs": [],
   "source": [
    "X_train = np.load(os.path.join('assets', 'X_train_surge_new.npz'))\n",
    "Y_train = pd.read_csv(os.path.join('assets', 'Y_train_surge.csv'))\n",
    "X_test = np.load(os.path.join('assets', 'X_test_surge_new.npz'))"
   ]
  },
  {
   "cell_type": "code",
   "execution_count": null,
   "metadata": {},
   "outputs": [],
   "source": [
    "# create a gif of all 40 images of the first sample\n",
    "# from https://stackoverflow.com/a/56244531/1164295\n",
    "def create_gif(images, filename, duration=0.1):\n",
    "  import imageio\n",
    "  images = [imageio.imread(image) for image in images]\n",
    "  imageio.mimsave(filename, images, duration=duration)\n",
    "\n",
    "\n",
    "# try create assets/images folder\n",
    "try:\n",
    "  os.mkdir('assets/images')\n",
    "except FileExistsError:\n",
    "  pass\n",
    "\n",
    "if not os.path.exists(os.path.join('assets', 'images', 'surge_sample.gif')):\n",
    "\n",
    "  images = []\n",
    "  for i in range(40):\n",
    "    data = X_train['slp'][0, i, :, :]\n",
    "    plt.imsave(os.path.join('assets', 'images', f'surge_sample_{i}.png'), data, cmap='jet')\n",
    "    images.append(os.path.join('assets', 'images', f'surge_sample_{i}.png'))\n",
    "\n",
    "  create_gif(images, os.path.join('assets', 'images', f'surge_sample.gif'), duration=0.1)"
   ]
  },
  {
   "cell_type": "code",
   "execution_count": null,
   "metadata": {},
   "outputs": [],
   "source": [
    "# display the gif\n",
    "from IPython.display import Image\n",
    "Image(url=os.path.join('assets', 'images', f'surge_sample.gif'), width=500)"
   ]
  },
  {
   "cell_type": "code",
   "execution_count": null,
   "metadata": {},
   "outputs": [],
   "source": [
    "x_surge1 = X_train['surge1_input']  # (5599, 10)\n",
    "x_surge2 = X_train['surge2_input']  # (5599, 10)\n",
    "\n",
    "# x_slp = X_train['slp']       # (5599, 40, 41, 41)\n",
    "# x_slp = x_slp[:, ::4, :, :]  # (5599, 10, 41, 41)\n",
    "\n",
    "y_surge1 = np.array([Y_train[f'surge1_t{i}'] for i in range(10)]).T  # (5599, 10)\n",
    "y_surge2 = np.array([Y_train[f'surge2_t{i}'] for i in range(10)]).T  # (5599, 10)\n",
    "\n",
    "print(x_surge1.shape, y_surge1.shape)"
   ]
  },
  {
   "cell_type": "code",
   "execution_count": null,
   "metadata": {},
   "outputs": [],
   "source": [
    "# create input and output data\n",
    "X = np.array([x_surge1[:, i] for i in range(10)] + [x_surge2[:, i] for i in range(10)]).T\n",
    "Y = np.array([y_surge1[:, i] for i in range(10)] + [y_surge2[:, i] for i in range(10)]).T\n",
    "\n",
    "# create train and test data\n",
    "X_train, X_test = X[:5000], X[5000:]\n",
    "Y_train, Y_test = Y[:5000], Y[5000:]\n",
    "\n",
    "print(X_train.shape, Y_train.shape)\n",
    "\n",
    "model = tf.keras.Sequential([\n",
    "  tf.keras.layers.Dense(64, activation='relu', input_shape=(20,)),\n",
    "  tf.keras.layers.Dense(64, activation='relu'),\n",
    "  tf.keras.layers.Dense(20)\n",
    "])\n",
    "\n",
    "model.compile(optimizer='adam', loss='mse', metrics=['mae', 'mse'])\n"
   ]
  },
  {
   "cell_type": "code",
   "execution_count": null,
   "metadata": {},
   "outputs": [],
   "source": [
    "# fit model\n",
    "history = model.fit(X_train, Y_train, epochs=100, batch_size=32, validation_split=0.1, verbose=1)\n",
    "\n",
    "# plot loss\n",
    "plt.plot(history.history['loss'], label='train')\n",
    "plt.plot(history.history['val_loss'], label='test')\n",
    "plt.legend()\n",
    "plt.show()"
   ]
  },
  {
   "cell_type": "code",
   "execution_count": null,
   "metadata": {},
   "outputs": [],
   "source": [
    "# make predictions\n",
    "Y_pred = model.predict(X_test)\n",
    "\n",
    "score = model.evaluate(X_test, Y_test, verbose=0)\n",
    "print('Test loss:', score)\n",
    " \n",
    "# plot predictions\n",
    "plt.plot(Y_test[:, 0], label='actual')\n",
    "plt.plot(Y_pred[:, 0], label='predicted')\n",
    "plt.legend()\n",
    "plt.show()"
   ]
  },
  {
   "cell_type": "code",
   "execution_count": null,
   "metadata": {},
   "outputs": [],
   "source": [
    "\n",
    "import surge_prediction_metric as surge\n",
    "\n",
    "# convert predictions to dataframe\n",
    "Y_pred_df = pd.DataFrame(Y_pred, columns=[f'surge1_t{i}' for i in range(10)] + [f'surge2_t{i}' for i in range(10)])\n",
    "Y_true_df = pd.DataFrame(Y_test, columns=[f'surge1_t{i}' for i in range(10)] + [f'surge2_t{i}' for i in range(10)])\n",
    "\n",
    "Y_pred_df = Y_pred_df.loc[Y_true_df.index]\n",
    "\n",
    "s1 = surge.surge_prediction_metric(Y_true_df[:10], Y_pred_df[:10])\n",
    "s2 = surge.surge_prediction_metric(Y_true_df[10:], Y_pred_df[10:])\n",
    "print(s1, s2)"
   ]
  }
 ],
 "metadata": {
  "kernelspec": {
   "display_name": "Python 3",
   "language": "python",
   "name": "python3"
  },
  "language_info": {
   "codemirror_mode": {
    "name": "ipython",
    "version": 3
   },
   "file_extension": ".py",
   "mimetype": "text/x-python",
   "name": "python",
   "nbconvert_exporter": "python",
   "pygments_lexer": "ipython3",
   "version": "3.10.9 (tags/v3.10.9:1dd9be6, Dec  6 2022, 20:01:21) [MSC v.1934 64 bit (AMD64)]"
  },
  "orig_nbformat": 4,
  "vscode": {
   "interpreter": {
    "hash": "26de051ba29f2982a8de78e945f0abaf191376122a1563185a90213a26c5da77"
   }
  }
 },
 "nbformat": 4,
 "nbformat_minor": 2
}
